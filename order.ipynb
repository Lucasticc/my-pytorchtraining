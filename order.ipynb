{
 "cells": [
  {
   "attachments": {},
   "cell_type": "markdown",
   "metadata": {},
   "source": [
    "首先git仓库初始化\n",
    "\n",
    "git init"
   ]
  },
  {
   "attachments": {},
   "cell_type": "markdown",
   "metadata": {},
   "source": [
    "链接到git仓库\n",
    "\n",
    "git remote add origin git@github.com:Lucasticc/666.git"
   ]
  },
  {
   "attachments": {},
   "cell_type": "markdown",
   "metadata": {},
   "source": [
    "也可以查看本项目链接到的git仓库地址\n",
    "\n",
    "git remote -v"
   ]
  },
  {
   "attachments": {},
   "cell_type": "markdown",
   "metadata": {},
   "source": [
    "可以更换本项目链接到的git仓库地址\n",
    "\n",
    "git remote set-url origin git@github.com:Lucasticc/my-pytorchtraining.git"
   ]
  },
  {
   "attachments": {},
   "cell_type": "markdown",
   "metadata": {},
   "source": [
    "git status  查看当前状态\n",
    "红色的文件就是有修改过的文件"
   ]
  },
  {
   "attachments": {},
   "cell_type": "markdown",
   "metadata": {},
   "source": [
    "第二步:\n",
    "\n",
    "提交代码第二步：git add .  或者 git add xxx"
   ]
  },
  {
   "attachments": {},
   "cell_type": "markdown",
   "metadata": {},
   "source": [
    "第三步：\n",
    "\n",
    "提交代码第三步：git commit -m \"提交代码\"   推送修改到本地git库中"
   ]
  },
  {
   "attachments": {},
   "cell_type": "markdown",
   "metadata": {},
   "source": [
    "第四步：\n",
    "\n",
    "提交代码第四步：git pull <远程主机名> <远程分支名>  取回远程主机某个分支的更新，再与本地的指定分支合并。"
   ]
  },
  {
   "attachments": {},
   "cell_type": "markdown",
   "metadata": {},
   "source": [
    "第五步：\n",
    "\n",
    "提交代码第五步：git push <远程主机名> <远程分支名>  把当前提交到git本地仓库的代码推送到远程主机的某个远程分之上"
   ]
  }
 ],
 "metadata": {
  "language_info": {
   "name": "python"
  },
  "orig_nbformat": 4
 },
 "nbformat": 4,
 "nbformat_minor": 2
}
