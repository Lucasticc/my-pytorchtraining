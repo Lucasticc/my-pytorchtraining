{
 "cells": [
  {
   "attachments": {},
   "cell_type": "markdown",
   "metadata": {},
   "source": [
    "首先git仓库初始化\n",
    "\n",
    "git init"
   ]
  },
  {
   "attachments": {},
   "cell_type": "markdown",
   "metadata": {},
   "source": [
    "链接到git仓库\n",
    "\n",
    "git remote add origin git@github.com:Lucasticc/666.git"
   ]
  },
  {
   "attachments": {},
   "cell_type": "markdown",
   "metadata": {},
   "source": [
    "也可以查看本项目链接到的git仓库地址\n",
    "\n",
    "git remote -v"
   ]
  },
  {
   "attachments": {},
   "cell_type": "markdown",
   "metadata": {},
   "source": [
    "可以更换本项目链接到的git仓库地址\n",
    "\n",
    "git remote set-url origin git@github.com:Lucasticc/my-pytorchtraining.git"
   ]
  }
 ],
 "metadata": {
  "language_info": {
   "name": "python"
  },
  "orig_nbformat": 4
 },
 "nbformat": 4,
 "nbformat_minor": 2
}
