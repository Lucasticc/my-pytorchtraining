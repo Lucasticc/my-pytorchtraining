{
 "cells": [
  {
   "cell_type": "markdown",
   "metadata": {},
   "source": [
    "14题 编写一个函数来查找字符串数组中的最长公共前缀。\n",
    "\n",
    "如果不存在公共前缀，返回空字符串 \"\"。\n",
    "\n",
    "输入：strs = [\"flower\",\"flow\",\"flight\"]\n",
    "\n",
    "输出：\"fl\""
   ]
  },
  {
   "cell_type": "code",
   "execution_count": 48,
   "metadata": {},
   "outputs": [],
   "source": [
    "class Solution14:\n",
    "    def longestCommonPrefix(self, strs):\n",
    "        if not strs:\n",
    "            return \"\"\n",
    "        # 使用key=len 按照字符串长短排序\n",
    "        strs.sort()\n",
    "        i = 1\n",
    "        res = strs[0]\n",
    "        while i < len(strs):\n",
    "            while strs[i].find(res) != 0:\n",
    "                res =res[0:len(res)-1]\n",
    "            i +=1\n",
    "        return res"
   ]
  },
  {
   "cell_type": "markdown",
   "metadata": {},
   "source": [
    "使用sort函数对传入字符串进行排序，key值使用len进行排序，选取最小的字符串，来降低循环的次数\n",
    "\n",
    "寻找最小公共前缀可以使用find函数来寻找\n",
    "\n",
    "\"字符串1\".find(\"字符串2\") --find函数用法 来寻找字符串1中是否有字符串2\n",
    "\n",
    "while循环的特点 直到满足while的条件才跳出while循环。\n",
    "\n",
    "本题第一个while循环 意思是循环传入字符串，知道比较完所有传入字符串，他是从第一个字符串开始的 ，因为使用的第一个最短字符串来做比较\n",
    "\n",
    "第二个while循环 使用find函数来看 我们选取的第一个字符串是否在 我们之比较的第二个字符串中 如果不是就将 我们选取的第一个字符串减1之后再比较 直到在之比较字符串中找到相同的前缀 则find函数返回0结束循环 去比较第二个字符 \n",
    "\n",
    "所有减操作都是对于res 也就是我们选取的最小字符串 使用排序后选择最小字符串可以减少我们 使用find函数的次数 从而增快检索效率\n",
    "\n"
   ]
  },
  {
   "cell_type": "code",
   "execution_count": 64,
   "metadata": {},
   "outputs": [
    {
     "data": {
      "text/plain": [
       "'fl'"
      ]
     },
     "execution_count": 64,
     "metadata": {},
     "output_type": "execute_result"
    }
   ],
   "source": [
    "# 调用函数 先要对函数进行实例化\n",
    "solution14 = Solution14()\n",
    "solution14.longestCommonPrefix([\"flower\",\"flow\",\"flghflt\"])"
   ]
  },
  {
   "cell_type": "markdown",
   "metadata": {},
   "source": [
    "20题给定一个只包括 '('，')'，'{'，'}'，'['，']' 的字符串 s ，判断字符串是否有效。\n",
    "\n",
    "有效字符串需满足：\n",
    "\n",
    "左括号必须用相同类型的右括号闭合。\n",
    "左括号必须以正确的顺序闭合。\n",
    "每个右括号都有一个对应的相同类型的左括号。\n",
    "\n",
    "输入：s = \"()\"\n",
    "输出：true"
   ]
  },
  {
   "cell_type": "code",
   "execution_count": 65,
   "metadata": {},
   "outputs": [],
   "source": [
    "class Solution20():\n",
    "    def isValid(self,s):\n",
    "        dic = {'(':')','[':']','{':'}','w':'w'}\n",
    "        temp=['w']\n",
    "        for n in s:\n",
    "            if n in dic:\n",
    "                temp.append(n)\n",
    "            elif dic[temp.pop()] != n:\n",
    "                return False\n",
    "        return len(temp) == 1\n",
    "Solution20 = Solution20()"
   ]
  },
  {
   "cell_type": "markdown",
   "metadata": {},
   "source": [
    "判断括号是否闭合 可以将括号的左右括号做成一个字典 以键值对的形式来检索 搜索时搜索的是键 拿出来的是值 比如说 我输入的是一个小括号（）\n",
    "\n",
    "for循环第一个是（ 搜寻字典中是否有（ 这个键 直接使用if函数来判断 如果有这个键则将这个键放入到一个临时数组中 然后继续 因为括号必须是闭合的 继续往下遍历寻找 他的右括号\n",
    "\n",
    "如果下一个是右括号 我们在字典中定义的都是左边括号 直接用if n in s（这个是用来在字典中寻找键的）如果没有 则进入到elif中 （elif运行的条件是如果if条件不满足的话则进到elif中运行）\n",
    "\n",
    "（这步是判断这个是否是闭合的）elif中判断的是字典中键对应的值 是否不是 我们所循环取的括号 因为第一个if不成立的话 只能是右边括号\n",
    "\n",
    "这个pop操作时 我们定义的temp数组 有值 是防止他第一次就出"
   ]
  },
  {
   "cell_type": "code",
   "execution_count": 66,
   "metadata": {},
   "outputs": [
    {
     "data": {
      "text/plain": [
       "True"
      ]
     },
     "execution_count": 66,
     "metadata": {},
     "output_type": "execute_result"
    }
   ],
   "source": [
    "#调用函数\n",
    "Solution20.isValid('()')"
   ]
  },
  {
   "attachments": {},
   "cell_type": "markdown",
   "metadata": {},
   "source": [
    "35. 搜索插入位置\n",
    "\n",
    "\n",
    "给定一个排序数组和一个目标值，在数组中找到目标值，并返回其索引。如果目标值不存在于数组中，返回它将会被按顺序插入的位置。\n",
    "\n",
    "请必须使用时间复杂度为 O(log n) 的算法。"
   ]
  },
  {
   "cell_type": "code",
   "execution_count": 67,
   "metadata": {},
   "outputs": [],
   "source": [
    "class Solution35():\n",
    "    def SearchInsert(self,nums,target):\n",
    "        large = len(nums)\n",
    "        left,right = 0,large\n",
    "        while left<right:\n",
    "            mid = left + (right-left) // 2\n",
    "            if target>nums[mid]:\n",
    "                left = mid+1\n",
    "            else:\n",
    "                right = mid\n",
    "        return left\n",
    "Solution35 = Solution35()"
   ]
  },
  {
   "cell_type": "code",
   "execution_count": 68,
   "metadata": {},
   "outputs": [
    {
     "data": {
      "text/plain": [
       "2"
      ]
     },
     "execution_count": 68,
     "metadata": {},
     "output_type": "execute_result"
    }
   ],
   "source": [
    "#调用函数\n",
    "Solution35.SearchInsert([1,3,5,6],5)"
   ]
  },
  {
   "attachments": {},
   "cell_type": "markdown",
   "metadata": {},
   "source": [
    "动态规划优化方法"
   ]
  },
  {
   "cell_type": "code",
   "execution_count": 69,
   "metadata": {},
   "outputs": [
    {
     "data": {
      "text/plain": [
       "3"
      ]
     },
     "execution_count": 69,
     "metadata": {},
     "output_type": "execute_result"
    }
   ],
   "source": [
    "#斐波那契数列为例 前两是1 从第三个开始 是前两个数的和\n",
    "def Fibonacci(n):\n",
    "    if (n <= 1):\n",
    "        return n\n",
    "    one = 0\n",
    "    two = 1\n",
    "    temp = 0\n",
    "    i =2\n",
    "    while(i<n):\n",
    "        i += 1\n",
    "        temp = two;\n",
    "        two = one + two\n",
    "        one = temp\n",
    "    return two + one\n",
    "Fibonacci(4)\n"
   ]
  },
  {
   "cell_type": "code",
   "execution_count": 70,
   "metadata": {},
   "outputs": [
    {
     "data": {
      "text/plain": [
       "3"
      ]
     },
     "execution_count": 70,
     "metadata": {},
     "output_type": "execute_result"
    }
   ],
   "source": [
    "\n",
    "# 递归写的斐波那契对比 递归有时候挺慢的\n",
    "def Fibonacci1(n):\n",
    "    if n <= 1:\n",
    "        return n\n",
    "    else:\n",
    "        return Fibonacci1(n-1) +Fibonacci1(n-2)\n",
    "Fibonacci1(4)"
   ]
  },
  {
   "cell_type": "code",
   "execution_count": 71,
   "metadata": {},
   "outputs": [],
   "source": [
    "#动态规划\n"
   ]
  },
  {
   "cell_type": "code",
   "execution_count": 72,
   "metadata": {},
   "outputs": [],
   "source": [
    "#记忆化搜索\n",
    "# 把输出过的结果 记载在一个数组或者字典中\n",
    "def FibonacciUsingBUffer(n):\n",
    "    if n < 2:\n",
    "        return 1\n",
    "    Buffer = {}\n"
   ]
  },
  {
   "cell_type": "code",
   "execution_count": 73,
   "metadata": {},
   "outputs": [],
   "source": [
    "class Solution135:\n",
    "    def percentageLetter(self, s: str, letter: str) -> int:\n",
    "        large = len(s)\n",
    "        l = 0\n",
    "        for i in range(large):\n",
    "            if s[i] == letter :\n",
    "                l += 1 \n",
    "        return 100*l // len(s)\n",
    "Solution135 = Solution135()"
   ]
  },
  {
   "cell_type": "code",
   "execution_count": 74,
   "metadata": {},
   "outputs": [
    {
     "data": {
      "text/plain": [
       "33"
      ]
     },
     "execution_count": 74,
     "metadata": {},
     "output_type": "execute_result"
    }
   ],
   "source": [
    "Solution135.percentageLetter('kue','e')"
   ]
  },
  {
   "attachments": {},
   "cell_type": "markdown",
   "metadata": {},
   "source": [
    "2278. 字母在字符串中的百分比\n",
    "\n",
    "给你一个字符串 s 和一个字符 letter ，返回在 s 中等于 letter 字符所占的 百分比 ，向下取整到最接近的百分比。\n",
    "使用count 函数直接在字符串中计算某一字符的数量"
   ]
  },
  {
   "cell_type": "code",
   "execution_count": 75,
   "metadata": {},
   "outputs": [],
   "source": [
    "class Solution2278:\n",
    "    def percentageLetter(self, s: str, letter: str) -> int:\n",
    "        str1 = s.count(letter)*100 // len(s)\n",
    "        return str(str1)+'%'\n",
    "Solution2278 = Solution2278()"
   ]
  },
  {
   "cell_type": "code",
   "execution_count": 76,
   "metadata": {},
   "outputs": [
    {
     "data": {
      "text/plain": [
       "'7%'"
      ]
     },
     "execution_count": 76,
     "metadata": {},
     "output_type": "execute_result"
    }
   ],
   "source": [
    "Solution2278.percentageLetter('doajfiesahfewuifgbserifgbe','b')"
   ]
  },
  {
   "attachments": {},
   "cell_type": "markdown",
   "metadata": {},
   "source": [
    "344. 反转字符串\n",
    " \n",
    "编写一个函数，其作用是将输入的字符串反转过来。输入字符串以字符数组 s 的形式给出。\n",
    "\n",
    "不要给另外的数组分配额外的空间，你必须原地修改输入数组、使用 O(1) 的额外空间解决这一问题。\n"
   ]
  },
  {
   "cell_type": "code",
   "execution_count": 77,
   "metadata": {},
   "outputs": [],
   "source": [
    "class Solution344:\n",
    "    def reverseString(self, s) -> None:\n",
    "        \"\"\"\n",
    "        Do not return anything, modify s in-place instead.\n",
    "        \n",
    "        \"\"\"\n",
    "        large = len(s)\n",
    "        for i in range(large//2):\n",
    "           s[i], s[large-i-1] = s[large-i-1], s[i]\n",
    "        # s[:]=s[::-1]\n",
    "Solution344 = Solution344()"
   ]
  },
  {
   "cell_type": "code",
   "execution_count": 78,
   "metadata": {},
   "outputs": [
    {
     "ename": "TypeError",
     "evalue": "'str' object does not support item assignment",
     "output_type": "error",
     "traceback": [
      "\u001b[0;31m---------------------------------------------------------------------------\u001b[0m",
      "\u001b[0;31mTypeError\u001b[0m                                 Traceback (most recent call last)",
      "Cell \u001b[0;32mIn[78], line 2\u001b[0m\n\u001b[1;32m      1\u001b[0m ph \u001b[39m=\u001b[39m \u001b[39m\"\u001b[39m\u001b[39mdwilfjwoije\u001b[39m\u001b[39m\"\u001b[39m\n\u001b[0;32m----> 2\u001b[0m Solution344\u001b[39m.\u001b[39;49mreverseString(ph)\n\u001b[1;32m      3\u001b[0m \u001b[39mprint\u001b[39m(ph)\n",
      "Cell \u001b[0;32mIn[77], line 9\u001b[0m, in \u001b[0;36mSolution344.reverseString\u001b[0;34m(self, s)\u001b[0m\n\u001b[1;32m      7\u001b[0m large \u001b[39m=\u001b[39m \u001b[39mlen\u001b[39m(s)\n\u001b[1;32m      8\u001b[0m \u001b[39mfor\u001b[39;00m i \u001b[39min\u001b[39;00m \u001b[39mrange\u001b[39m(large\u001b[39m/\u001b[39m\u001b[39m/\u001b[39m\u001b[39m2\u001b[39m):\n\u001b[0;32m----> 9\u001b[0m    s[i], s[large\u001b[39m-\u001b[39mi\u001b[39m-\u001b[39m\u001b[39m1\u001b[39m] \u001b[39m=\u001b[39m s[large\u001b[39m-\u001b[39mi\u001b[39m-\u001b[39m\u001b[39m1\u001b[39m], s[i]\n",
      "\u001b[0;31mTypeError\u001b[0m: 'str' object does not support item assignment"
     ]
    }
   ],
   "source": [
    "ph = \"dwilfjwoije\"\n",
    "Solution344.reverseString(ph)\n",
    "print(ph)"
   ]
  },
  {
   "attachments": {},
   "cell_type": "markdown",
   "metadata": {},
   "source": [
    "1984. 学生分数的最小差值 #滑动窗口"
   ]
  },
  {
   "attachments": {},
   "cell_type": "markdown",
   "metadata": {},
   "source": [
    "给你一个 下标从 0 开始 的整数数组 nums ，其中 nums[i] 表示第 i 名学生的分数。另给你一个整数 k 。\n",
    "\n",
    "从数组中选出任意 k 名学生的分数，使这 k 个分数间 最高分 和 最低分 的 差值 达到 最小化 。\n",
    "\n",
    "返回可能的 最小差值 。"
   ]
  },
  {
   "cell_type": "code",
   "execution_count": null,
   "metadata": {},
   "outputs": [],
   "source": [
    "class Solution1984:\n",
    "    def minimumDifference(self, nums, k: int) -> int:\n",
    "        n = len(nums)\n",
    "        if n == 0:\n",
    "            return 0\n",
    "        elif n <= k:\n",
    "            return max(nums) - min (nums)\n",
    "        maxx = 100000000000\n",
    "        for i in range(n-k+1):\n",
    "            minn = min(maxx,nums[i+k-1]-nums[i])\n",
    "        return minn\n",
    "Solution1984 = Solution1984()"
   ]
  },
  {
   "cell_type": "code",
   "execution_count": null,
   "metadata": {},
   "outputs": [
    {
     "data": {
      "text/plain": [
       "69"
      ]
     },
     "execution_count": 99,
     "metadata": {},
     "output_type": "execute_result"
    }
   ],
   "source": [
    "Solution1984.minimumDifference([1,2,4,5,6,7,8,9,10,11,23,68,79],5)"
   ]
  },
  {
   "attachments": {},
   "cell_type": "markdown",
   "metadata": {},
   "source": [
    "442. 数组中重复的数据\n",
    "\n",
    "给你一个长度为 n 的整数数组 nums ，其中 nums 的所有整数都在范围 [1, n] 内，且每个整数出现 一次 或 两次 。请你找出所有出现 两次 的整数，并以数组形式返回。\n",
    "\n",
    "你必须设计并实现一个时间复杂度为 O(n) 且仅使用常量额外空间的算法解决此问题。"
   ]
  },
  {
   "cell_type": "code",
   "execution_count": null,
   "metadata": {},
   "outputs": [],
   "source": [
    "class Solution442:\n",
    "    def findDuplicates(self, nums):\n",
    "        # nums[i] = i + 1 \n",
    "        for i, j in enumerate(nums): #j为value值 i为索引值\n",
    "            #考虑满足哈希函数 所在位置是否为索引值 或者是j应该所在位置正确与否\n",
    "            while j != i + 1 and j != nums[j - 1]:  #要同时满足两个条件\n",
    "                # 如果当前位置不为既定值 应所在位置的值与其也不相同\n",
    "                k = nums[i] - 1 # 将他换到他应在所在位置\n",
    "                nums[i], nums[k] = nums[k], nums[i] \n",
    "                j = nums[i]\n",
    "        return [j \n",
    "                for i, j in enumerate(nums) \n",
    "                if i != j - 1]\n",
    "        # return nums[::-1]\n",
    "Solution442 = Solution442()"
   ]
  },
  {
   "cell_type": "code",
   "execution_count": null,
   "metadata": {},
   "outputs": [
    {
     "data": {
      "text/plain": [
       "[3, 2]"
      ]
     },
     "execution_count": 14,
     "metadata": {},
     "output_type": "execute_result"
    }
   ],
   "source": [
    "Solution442.findDuplicates([1,3,2,3,2])"
   ]
  },
  {
   "attachments": {},
   "cell_type": "markdown",
   "metadata": {},
   "source": [
    "1480. 一维数组的动态和\n",
    "\n",
    "给你一个数组 nums 。数组「动态和」的计算公式为：runningSum[i] = sum(nums[0]…nums[i]) 。\n",
    "\n",
    "请返回 nums 的动态和。"
   ]
  },
  {
   "cell_type": "code",
   "execution_count": null,
   "metadata": {},
   "outputs": [],
   "source": [
    "class Solution1480:\n",
    "    def runningSum(self, nums):\n",
    "        # temp = []\n",
    "        # for i in range(len(nums)):\n",
    "        #     j = 0\n",
    "        #     sum = 0\n",
    "        #     while j <= i:\n",
    "        #         sum += nums[j]\n",
    "        #         j += 1\n",
    "        #     temp.append(sum)\n",
    "        # return temp\n",
    "        for i in range(1,len(nums)):\n",
    "            nums[i] += nums[i-1]\n",
    "            i += 1\n",
    "        return nums\n",
    "Solution1480 = Solution1480()"
   ]
  },
  {
   "cell_type": "code",
   "execution_count": null,
   "metadata": {},
   "outputs": [
    {
     "data": {
      "text/plain": [
       "[1, 3, 6, 11, 17, 24]"
      ]
     },
     "execution_count": 19,
     "metadata": {},
     "output_type": "execute_result"
    }
   ],
   "source": [
    "Solution1480.runningSum([1,2,3,5,6,7])"
   ]
  },
  {
   "attachments": {},
   "cell_type": "markdown",
   "metadata": {},
   "source": [
    "459. 重复的子字符串\n",
    "\n",
    "给定一个非空的字符串 s ，检查是否可以通过由它的一个子串重复多次构成。\n",
    "\n",
    " "
   ]
  },
  {
   "cell_type": "code",
   "execution_count": null,
   "metadata": {},
   "outputs": [],
   "source": [
    "class Solution459:\n",
    "    def repeatedSubstringPattern(self, s: str) -> bool:\n",
    "            n = len(s)\n",
    "            return (s+s).find(s,1) != len(s)\n",
    "Solution459 = Solution459()\n",
    "# 使用find方法来查找 字符串中是否有相同 使用find查找 find函数中的第一个字符串 返回的在要查找的字符串中的索引值"
   ]
  },
  {
   "cell_type": "code",
   "execution_count": null,
   "metadata": {},
   "outputs": [
    {
     "data": {
      "text/plain": [
       "True"
      ]
     },
     "execution_count": 14,
     "metadata": {},
     "output_type": "execute_result"
    }
   ],
   "source": [
    "Solution459.repeatedSubstringPattern('aabaab')"
   ]
  },
  {
   "cell_type": "code",
   "execution_count": null,
   "metadata": {},
   "outputs": [
    {
     "name": "stdout",
     "output_type": "stream",
     "text": [
      "2\n"
     ]
    }
   ],
   "source": [
    "str = 'wbwbc'\n",
    "str1 = 'wbc'\n",
    "print(str.find(str1,1)) "
   ]
  },
  {
   "attachments": {},
   "cell_type": "markdown",
   "metadata": {},
   "source": [
    "219. 存在重复元素 II\n",
    "\n",
    "给你一个整数数组 nums 和一个整数 k ，判断数组中是否存在两个 不同的索引 i 和 j ，满足 nums[i] == nums[j] 且 abs(i - j) <= k 。如果存在，返回 true ；否则，返回 false 。\n",
    "\n",
    " "
   ]
  },
  {
   "cell_type": "code",
   "execution_count": null,
   "metadata": {},
   "outputs": [],
   "source": [
    "class Solution219:\n",
    "    def containsNearbyDuplicate(self, nums, k: int) -> bool:\n",
    "        pos ={}\n",
    "        for i , num in enumerate(nums):\n",
    "            if num in pos and i - pos[num] <= k:\n",
    "                return True\n",
    "            pos[num] = i\n",
    "        return False\n",
    "Solution219 = Solution219()\n",
    "#使用哈希表 遍历数组  将数组元素所对应下标存入 哈希表中"
   ]
  },
  {
   "cell_type": "code",
   "execution_count": null,
   "metadata": {},
   "outputs": [
    {
     "data": {
      "text/plain": [
       "True"
      ]
     },
     "execution_count": 8,
     "metadata": {},
     "output_type": "execute_result"
    }
   ],
   "source": [
    "Solution219.containsNearbyDuplicate([1,2,3,4,1],5)"
   ]
  },
  {
   "attachments": {},
   "cell_type": "markdown",
   "metadata": {},
   "source": [
    "5. 最长回文子串\n",
    "\n",
    "给你一个字符串 s，找到 s 中最长的回文子串。\n",
    "\n",
    "如果字符串的反序与原始字符串相同，则该字符串称为回文字符串。"
   ]
  },
  {
   "cell_type": "code",
   "execution_count": null,
   "metadata": {},
   "outputs": [],
   "source": [
    "class Solution5:\n",
    "    def longestPalindrome(self, s: str) -> str:\n",
    "        larger = len(s)\n",
    "        if larger < 2:\n",
    "            return s\n",
    "        res = []\n",
    "        # 搞一个数组来存储答案\n",
    "        for i in range(larger):\n",
    "            left  = max(i - len(res)-1,0)\n",
    "            temp = s[left:i+1]\n",
    "            if temp == temp[::-1]:\n",
    "                res = temp\n",
    "            else:\n",
    "                temp = temp[1:]\n",
    "                if temp == temp[::-1]:\n",
    "                    res = temp\n",
    "        return res\n",
    "Solution5 = Solution5()\n",
    "# class Solution:\n",
    "#     def longestPalindrome(self, s: str) -> str:\n",
    "#         maxSubStr = ''\n",
    "#         for i in range(len(s)):\n",
    "#             # 向前找到长度 大于 最长回文子串长度 的开始位置（与0比较防止越界）\n",
    "#             tmpLeft = max(i - len(maxSubStr) - 1, 0)\n",
    "#             # 两次切片判断，解决奇偶字串问题\n",
    "#             # 第一次判断：临时切片，此时len(tmp) - len(maxSubStr) = 2\n",
    "#             tmp = s[tmpLeft:i + 1]\n",
    "#             if tmp == tmp[::-1]:\n",
    "#                 maxSubStr = tmp\n",
    "#             else:\n",
    "#                 # 第二次判断：更新临时切片，此时len(tmp) - len(maxSubStr) = 1\n",
    "#                 tmp = tmp[1:]\n",
    "#                 if tmp == tmp[::-1]:\n",
    "#                     maxSubStr = tmp\n",
    "#         return maxSubStr"
   ]
  },
  {
   "cell_type": "code",
   "execution_count": null,
   "metadata": {},
   "outputs": [
    {
     "data": {
      "text/plain": [
       "'abba'"
      ]
     },
     "execution_count": 7,
     "metadata": {},
     "output_type": "execute_result"
    }
   ],
   "source": [
    "Solution5.longestPalindrome('abaccdabba')"
   ]
  },
  {
   "attachments": {},
   "cell_type": "markdown",
   "metadata": {},
   "source": [
    "136. 只出现一次的数字\n",
    "\n",
    "给你一个 非空 整数数组 nums ，除了某个元素只出现一次以外，其余每个元素均出现两次。找出那个只出现了一次的元素。\n",
    "\n",
    "你必须设计并实现线性时间复杂度的算法来解决此问题，且该算法只使用常量额外空间。\n",
    " "
   ]
  },
  {
   "cell_type": "code",
   "execution_count": null,
   "metadata": {},
   "outputs": [
    {
     "ename": "SyntaxError",
     "evalue": "invalid syntax (1994603599.py, line 3)",
     "output_type": "error",
     "traceback": [
      "\u001b[1;36m  Cell \u001b[1;32mIn [1], line 3\u001b[1;36m\u001b[0m\n\u001b[1;33m    return reduce(lambda x, y: x ^ y, nums)s\u001b[0m\n\u001b[1;37m                                           ^\u001b[0m\n\u001b[1;31mSyntaxError\u001b[0m\u001b[1;31m:\u001b[0m invalid syntax\n"
     ]
    }
   ],
   "source": [
    "class Solution136:\n",
    "    def singleNumber(self, nums) -> int:\n",
    "        return reduce(lambda x, y: x ^ y, nums)\n",
    "# reduce 重复计算 \n",
    "#lambda 匿名函数 不用重复定义\n",
    "#x^y 亦或操作 相同为0 不同为1"
   ]
  }
 ],
 "metadata": {
  "kernelspec": {
   "display_name": "Python 3.8.2 64-bit",
   "language": "python",
   "name": "python3"
  },
  "language_info": {
   "codemirror_mode": {
    "name": "ipython",
    "version": 3
   },
   "file_extension": ".py",
   "mimetype": "text/x-python",
   "name": "python",
   "nbconvert_exporter": "python",
   "pygments_lexer": "ipython3",
   "version": "3.9.6"
  },
  "vscode": {
   "interpreter": {
    "hash": "761e9a61df0eb3a2b28da0b2511a4e311826278648d50488c05337785039d979"
   }
  }
 },
 "nbformat": 4,
 "nbformat_minor": 2
}
